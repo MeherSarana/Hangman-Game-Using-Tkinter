{
 "cells": [
  {
   "cell_type": "code",
   "execution_count": 1,
   "id": "537cefbb",
   "metadata": {},
   "outputs": [],
   "source": [
    "from tkinter import *\n",
    "import random"
   ]
  },
  {
   "cell_type": "code",
   "execution_count": 2,
   "id": "6cdae7eb",
   "metadata": {},
   "outputs": [],
   "source": [
    "def exit():\n",
    "    root.destroy()"
   ]
  },
  {
   "cell_type": "code",
   "execution_count": 3,
   "id": "774e288c",
   "metadata": {},
   "outputs": [],
   "source": [
    "def clear():\n",
    "    e1.delete(0, END)"
   ]
  },
  {
   "cell_type": "code",
   "execution_count": 4,
   "id": "22138c64",
   "metadata": {},
   "outputs": [
    {
     "name": "stdout",
     "output_type": "stream",
     "text": [
      "creative\n"
     ]
    }
   ],
   "source": [
    "entered = ''\n",
    "guesses = ''\n",
    "words = ['python','programming','treasure','creative','medium','horror']\n",
    "word = random.choice(words)\n",
    "moves=len(word)+1\n",
    "str=\"\"\n",
    "print(word)\n",
    "def code():\n",
    "    global guesses\n",
    "    global word\n",
    "    global won\n",
    "    global entered\n",
    "    global moves\n",
    "    global str\n",
    "    entered=f\"{e1.get()}\"\n",
    "    if(entered in guesses):\n",
    "        btn=Entry(root,textvariable=e1,width=5,font =('arial', 20, 'bold'))\n",
    "        btn.place(x=210,y=165)\n",
    "        return\n",
    "    guesses+=entered\n",
    "    entered=entered[0]\n",
    "    print(entered)\n",
    "    won=1\n",
    "    str=''\n",
    "    for ch in word:\n",
    "        if ch in guesses:\n",
    "            str+=ch\n",
    "            print(ch,end = '')\n",
    "        else:\n",
    "            won=0\n",
    "            str+='_'\n",
    "            print(\"_\",end = '')\n",
    "    print('')    \n",
    "    entered_string =Label(root, font = ('arial', 20, 'bold'),text=str).place(x=170,y=210)\n",
    "    \n",
    "    moves-=1\n",
    "    print(moves)\n",
    "    if(won==1):\n",
    "        Win = Label(root, font = ('arial', 20, 'bold'), text = \"You Won!!!\")\n",
    "        Win.place(x=170,y=250)\n",
    "    elif won==0 and moves==0:\n",
    "        Lost = Label(root, font = ('arial', 20, 'bold'), text = \"You Lost!!!\")\n",
    "        Lost.place(x=170,y=250)"
   ]
  },
  {
   "cell_type": "code",
   "execution_count": 5,
   "id": "b0fea37e",
   "metadata": {},
   "outputs": [],
   "source": [
    "root = Tk()\n",
    "root.geometry(\"500x500\")\n",
    "root.title(\"TEAM-12 SANNIN\")\n",
    "l1=Label(root,text=\"HANGMAN\", font=('Segoe Print', 24),bg=\"gray\")\n",
    "l1.pack()\n",
    "l2=Label(root,text=\"Welcome to Hangman\", font=('Segoe Print', 24))\n",
    "l2.pack()"
   ]
  },
  {
   "cell_type": "code",
   "execution_count": 6,
   "id": "55ef6693",
   "metadata": {
    "scrolled": true
   },
   "outputs": [],
   "source": [
    "l3=Label(root,text=\"Guess the Word:\", font=('Arial',15))\n",
    "l3.place(x=10,y=120)\n",
    "l4=Label(root,text=\"Enter the Character:\", font=('Arial',15))\n",
    "l4.place(x=10,y=160)\n",
    "l5=Label(root,text=\"CODE-A-THON\", font=('Bold',15))\n",
    "l5.place(x=185,y=400)\n",
    "e1=Entry(root,text=\" \",width=20)\n",
    "e1.place(x=210,y=165)\n",
    "b1=Button(root,text=\"ENTER\", font=('Arial',10),command=code)\n",
    "b1.place(x=340,y=160)"
   ]
  },
  {
   "cell_type": "code",
   "execution_count": 7,
   "id": "13912b60",
   "metadata": {},
   "outputs": [],
   "source": [
    "b2=Button(root,text=\"EXIT\", font=('Arial',15),command=exit)\n",
    "b2.place(x=340,y=320)\n",
    "b3=Button(root,text=\"CLEAR\",font=('Arial',15),command=clear)\n",
    "b3.place(x=210,y=320)"
   ]
  },
  {
   "cell_type": "code",
   "execution_count": 8,
   "id": "bcc59f62",
   "metadata": {},
   "outputs": [],
   "source": [
    "root.mainloop()"
   ]
  }
 ],
 "metadata": {
  "kernelspec": {
   "display_name": "Python 3 (ipykernel)",
   "language": "python",
   "name": "python3"
  },
  "language_info": {
   "codemirror_mode": {
    "name": "ipython",
    "version": 3
   },
   "file_extension": ".py",
   "mimetype": "text/x-python",
   "name": "python",
   "nbconvert_exporter": "python",
   "pygments_lexer": "ipython3",
   "version": "3.10.9"
  }
 },
 "nbformat": 4,
 "nbformat_minor": 5
}
